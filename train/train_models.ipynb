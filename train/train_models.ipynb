{
 "cells": [
  {
   "cell_type": "code",
   "execution_count": null,
   "id": "urban-prayer",
   "metadata": {},
   "outputs": [],
   "source": [
    "# These is the preprocessing to prepare the train/dev/test files\n",
    "# Removing duplicates and analysis"
   ]
  },
  {
   "cell_type": "code",
   "execution_count": 1,
   "id": "liked-climb",
   "metadata": {},
   "outputs": [
    {
     "name": "stderr",
     "output_type": "stream",
     "text": [
      "/users/cost/jlovonme/miniconda3/envs/hierarchy/lib/python3.8/site-packages/tqdm/auto.py:22: TqdmWarning: IProgress not found. Please update jupyter and ipywidgets. See https://ipywidgets.readthedocs.io/en/stable/user_install.html\n",
      "  from .autonotebook import tqdm as notebook_tqdm\n"
     ]
    }
   ],
   "source": [
    "import time, os\n",
    "import torch\n",
    "import numpy as np\n",
    "import torch.nn as nn\n",
    "\n",
    "import pandas as pd\n",
    "from tqdm import tqdm\n",
    "\n",
    "import json\n",
    "import pickle"
   ]
  },
  {
   "cell_type": "code",
   "execution_count": 2,
   "id": "whole-conservation",
   "metadata": {
    "jupyter": {
     "source_hidden": true
    }
   },
   "outputs": [],
   "source": [
    "def load_json(filepath):\n",
    "    with open(filepath, 'r') as f:\n",
    "        data = json.load(f)\n",
    "    return data\n",
    "\n",
    "\n",
    "def get_stats_df(dataframe):\n",
    "    stats = []\n",
    "    for p in range(11):\n",
    "        row = []\n",
    "        for valid in [1,0,-1,-2]:\n",
    "            row.append(len(dataframe[(dataframe['prop']==p)&(dataframe['valid']==valid)]))\n",
    "        stats.append(row)\n",
    "    return stats\n",
    "\n",
    "    \n",
    "\n",
    "def load_dataset(datapath=\"/users/cost/jlovonme/data\", propfile=\"hierarchy_props/bansal_with_defs_trainprop_{prop}.json\"):\n",
    "    total_props = 9\n",
    "    max_triplets = 25\n",
    "    rand_seed = 42\n",
    "   \n",
    "    # Dataset sizes\n",
    "    ds_sizes = {}\n",
    "    all_dfs = []\n",
    "    \n",
    "    # Load all the property files and put it into a big one dataframe\n",
    "    for prop in range(total_props):\n",
    "        _propfile = propfile.format(prop=str(prop))\n",
    "        df = pd.read_json(load_json(os.path.join(datapath,_propfile)), orient=\"index\")\n",
    "        df['prop'] = prop+1\n",
    "        ndf = df[df['valid']==1]\n",
    "        ds_sizes[prop] = len(ndf)\n",
    "        all_dfs.append(df)\n",
    "        #print(prop, len(ndf))\n",
    "\n",
    "    bigdf = pd.concat(all_dfs)\n",
    "\n",
    "\n",
    "    # Valid\n",
    "    # 1 is positive\n",
    "    # 0 father of A\n",
    "    # -1 uncles\n",
    "    # -2 children of uncle\n",
    "    # -3 soft negative (outside subtree)\n",
    "\n",
    "    # Remove -3 (soft negatives) because\n",
    "    # 1. Confusion: Same term with another concept can be found (at which point is this useful?)\n",
    "    # 2. Hard negatives should be enough to train the model.\n",
    "    # Anycase, we are trying first with only hard negs.\n",
    "\n",
    "    # Totals: all, without soft negs, only valids, (5778398, 876097, 491507)\n",
    "    bigdf = bigdf[bigdf['valid']!=-3]\n",
    "    \n",
    "    print(\"# of tripets per property after removing soft-negatives\")\n",
    "    display(get_stats_df(bigdf))\n",
    "    \n",
    "    # Remove duplicates\n",
    "    bigdf.drop_duplicates(subset=['tree_id','ent_1','ent_2','ent_3','def_1','def_2','def_3'],inplace=True) # without same negatives in subtree\n",
    "    bigdf.drop_duplicates(subset=['ent_1','ent_2','ent_3','def_1','def_2','def_3'],inplace=True) # without same triplets in general\n",
    "    \n",
    "     # Final number of triplets for each property\n",
    "    print(\"# of tripets per property after removing identical triplets\")\n",
    "    display(get_stats_df(bigdf))\n",
    "    \n",
    "    print(\"# valid of triplets per property\")\n",
    "    set_tids = set(bigdf['tree_id'])\n",
    "    begin_tid, end_tid = min(set_tids),max(set_tids)\n",
    "    total_tid = end_tid - begin_tid + 1\n",
    "    print(\"Tree ids min - max - total\", begin_tid, end_tid, total_tid)\n",
    "    display((bigdf[bigdf['valid']==1].groupby(['prop']).count()/total_tid)['valid']) # avg # of valid triplets per property\n",
    "    \n",
    "    \n",
    "    # Iterate by property on treeid, randomly select 25 triplets per subtreeid, arbitrary chosen 25 ) # For train\n",
    "    newvaliddf = []\n",
    "   \n",
    "    for p in range(total_props):\n",
    "        tmp = bigdf[(bigdf['valid']==1)&(bigdf['prop']==(p+1))]\n",
    "        if p==0:\n",
    "            newvaliddf.append(tmp)\n",
    "            continue\n",
    "        for tid in range(begin_tid,end_tid+1):\n",
    "            tiddf = tmp[tmp['tree_id']==tid]\n",
    "            cur_len = len(tiddf)\n",
    "            if cur_len < max_triplets:\n",
    "                a=0\n",
    "                #if cur_len==0:\n",
    "                #    print(p,tid, cur_len)\n",
    "            else:\n",
    "                tiddf = tiddf.sample(n=max_triplets, random_state=rand_seed)\n",
    "            newvaliddf.append(tiddf)\n",
    "\n",
    "    newvaliddf = pd.concat(newvaliddf)\n",
    "    finaldf=pd.concat([bigdf[bigdf['valid']!=1],newvaliddf])\n",
    "    \n",
    "    print(\"Final total triplets per property\")\n",
    "    display(get_stats_df(finaldf))\n",
    "    \n",
    "    print(\"Total positive triplets\", len(finaldf[finaldf['valid']==1]), \"Total neg triplets\",len(finaldf[finaldf['valid']!=1]))\n",
    "    print(\"Total rows\", len(finaldf))\n",
    "    display(finaldf.head())\n",
    "    return finaldf\n",
    "\n",
    "def load_only_positives(datapath=\"/users/cost/jlovonme/data\", propfile=\"hierarchy_props/bansal_with_defs_trainprop_{prop}.json\", sample_prop=False):\n",
    "    total_props = 9\n",
    "    max_triplets = 25\n",
    "    rand_seed = 42\n",
    "   \n",
    "    # Dataset sizes\n",
    "    ds_sizes = {}\n",
    "    all_dfs = []\n",
    "    \n",
    "    # Load all the property files and put it into a big one dataframe\n",
    "    for prop in range(total_props):\n",
    "        _propfile = propfile.format(prop=str(prop))\n",
    "        df = pd.read_json(load_json(os.path.join(datapath,_propfile)), orient=\"index\")\n",
    "        df['prop'] = prop+1\n",
    "        ndf = df[df['valid']==1]\n",
    "        ds_sizes[prop] = len(ndf)\n",
    "        all_dfs.append(ndf)\n",
    "        #print(prop, len(ndf))\n",
    "\n",
    "    bigdf = pd.concat(all_dfs)\n",
    "\n",
    "\n",
    "    # Valid\n",
    "    # 1 is positive\n",
    "\n",
    "    bigdf = bigdf[bigdf['valid']!=-3]\n",
    "    \n",
    "    print(\"# of tripets per property after removing soft-negatives\")\n",
    "    display(get_stats_df(bigdf))\n",
    "    \n",
    "    # Remove duplicates\n",
    "    bigdf.drop_duplicates(subset=['tree_id','ent_1','ent_2','ent_3','def_1','def_2','def_3'],inplace=True) # without same negatives in subtree\n",
    "    bigdf.drop_duplicates(subset=['ent_1','ent_2','ent_3','def_1','def_2','def_3'],inplace=True) # without same triplets in general\n",
    "    \n",
    "     # Final number of triplets for each property\n",
    "    print(\"# of tripets per property after removing identical triplets\")\n",
    "    display(get_stats_df(bigdf))\n",
    "    \n",
    "    if sample_prop is False:\n",
    "        return bigdf\n",
    "    \n",
    "    print(\"# valid of triplets per property\")\n",
    "    set_tids = set(bigdf['tree_id'])\n",
    "    begin_tid, end_tid = min(set_tids),max(set_tids)\n",
    "    total_tid = end_tid - begin_tid + 1\n",
    "    print(\"Tree ids min - max - total\", begin_tid, end_tid, total_tid)\n",
    "    display((bigdf[bigdf['valid']==1].groupby(['prop']).count()/total_tid)['valid']) # avg # of valid triplets per property\n",
    "    \n",
    "    \n",
    "    # Iterate by property on treeid, randomly select 25 triplets per subtreeid, arbitrary chosen 25 ) # For train\n",
    "    newvaliddf = []\n",
    "   \n",
    "    for p in range(total_props):\n",
    "        tmp = bigdf[(bigdf['valid']==1)&(bigdf['prop']==(p+1))]\n",
    "        if p==0:\n",
    "            newvaliddf.append(tmp)\n",
    "            continue\n",
    "        for tid in range(begin_tid,end_tid+1):\n",
    "            tiddf = tmp[tmp['tree_id']==tid]\n",
    "            cur_len = len(tiddf)\n",
    "            if cur_len < max_triplets:\n",
    "                a=0\n",
    "                #if cur_len==0:\n",
    "                #    print(p,tid, cur_len)\n",
    "            else:\n",
    "                tiddf = tiddf.sample(n=max_triplets, random_state=rand_seed)\n",
    "            newvaliddf.append(tiddf)\n",
    "\n",
    "    finaldf = pd.concat(newvaliddf)\n",
    "    \n",
    "    print(\"Final total triplets per property\")\n",
    "    display(get_stats_df(finaldf))\n",
    "    \n",
    "    print(\"Total positive triplets\", len(finaldf[finaldf['valid']==1]), \"Total neg triplets\",len(finaldf[finaldf['valid']!=1]))\n",
    "    print(\"Total rows\", len(finaldf))\n",
    "    display(finaldf.head())\n",
    "    return finaldf\n"
   ]
  },
  {
   "cell_type": "markdown",
   "id": "considerable-friday",
   "metadata": {
    "jupyter": {
     "source_hidden": true
    }
   },
   "source": [
    "# Prepare data: train/dev/test files"
   ]
  },
  {
   "cell_type": "markdown",
   "id": "brazilian-performance",
   "metadata": {
    "jupyter": {
     "source_hidden": true
    }
   },
   "source": [
    "### Train"
   ]
  },
  {
   "cell_type": "code",
   "execution_count": 15,
   "id": "sweet-senator",
   "metadata": {
    "collapsed": true,
    "jupyter": {
     "outputs_hidden": true,
     "source_hidden": true
    },
    "scrolled": true
   },
   "outputs": [
    {
     "name": "stdout",
     "output_type": "stream",
     "text": [
      "# of tripets per property after removing soft-negatives\n"
     ]
    },
    {
     "data": {
      "text/plain": [
       "[[0, 0, 0, 0],\n",
       " [6397, 1714, 9451, 9307],\n",
       " [31116, 3770, 15648, 19468],\n",
       " [39505, 8177, 35507, 38153],\n",
       " [28912, 2638, 9322, 12206],\n",
       " [31116, 3770, 15648, 19468],\n",
       " [39505, 8177, 35507, 38153],\n",
       " [28912, 2638, 9322, 12206],\n",
       " [159848, 5909, 24077, 27107],\n",
       " [126196, 1974, 6416, 8857],\n",
       " [0, 0, 0, 0]]"
      ]
     },
     "metadata": {},
     "output_type": "display_data"
    },
    {
     "name": "stdout",
     "output_type": "stream",
     "text": [
      "# of tripets per property after removing identical triplets\n"
     ]
    },
    {
     "data": {
      "text/plain": [
       "[[0, 0, 0, 0],\n",
       " [6383, 1714, 9451, 9307],\n",
       " [30808, 3770, 15648, 19468],\n",
       " [39388, 8177, 35507, 38153],\n",
       " [28894, 2638, 9322, 12206],\n",
       " [31094, 0, 0, 0],\n",
       " [39394, 0, 0, 0],\n",
       " [28894, 0, 0, 0],\n",
       " [159636, 0, 0, 0],\n",
       " [126176, 0, 0, 0],\n",
       " [0, 0, 0, 0]]"
      ]
     },
     "metadata": {},
     "output_type": "display_data"
    },
    {
     "name": "stdout",
     "output_type": "stream",
     "text": [
      "# valid of triplets per property\n",
      "Tree ids min - max - total 0 532 533\n"
     ]
    },
    {
     "data": {
      "text/plain": [
       "prop\n",
       "1     11.975610\n",
       "2     57.801126\n",
       "3     73.898687\n",
       "4     54.210131\n",
       "5     58.337711\n",
       "6     73.909944\n",
       "7     54.210131\n",
       "8    299.504690\n",
       "9    236.727955\n",
       "Name: valid, dtype: float64"
      ]
     },
     "metadata": {},
     "output_type": "display_data"
    },
    {
     "name": "stdout",
     "output_type": "stream",
     "text": [
      "Final total triplets per property\n"
     ]
    },
    {
     "data": {
      "text/plain": [
       "[[0, 0, 0, 0],\n",
       " [6383, 1714, 9451, 9307],\n",
       " [9670, 3770, 15648, 19468],\n",
       " [12146, 8177, 35507, 38153],\n",
       " [8666, 2638, 9322, 12206],\n",
       " [9771, 0, 0, 0],\n",
       " [12146, 0, 0, 0],\n",
       " [8666, 0, 0, 0],\n",
       " [12216, 0, 0, 0],\n",
       " [8865, 0, 0, 0],\n",
       " [0, 0, 0, 0]]"
      ]
     },
     "metadata": {},
     "output_type": "display_data"
    },
    {
     "name": "stdout",
     "output_type": "stream",
     "text": [
      "Total positive triplets 88529 Total neg triplets 165361\n",
      "Total rows 253890\n"
     ]
    },
    {
     "data": {
      "text/html": [
       "<div>\n",
       "<style scoped>\n",
       "    .dataframe tbody tr th:only-of-type {\n",
       "        vertical-align: middle;\n",
       "    }\n",
       "\n",
       "    .dataframe tbody tr th {\n",
       "        vertical-align: top;\n",
       "    }\n",
       "\n",
       "    .dataframe thead th {\n",
       "        text-align: right;\n",
       "    }\n",
       "</style>\n",
       "<table border=\"1\" class=\"dataframe\">\n",
       "  <thead>\n",
       "    <tr style=\"text-align: right;\">\n",
       "      <th></th>\n",
       "      <th>tree_id</th>\n",
       "      <th>ent_1</th>\n",
       "      <th>ent_2</th>\n",
       "      <th>ent_3</th>\n",
       "      <th>def_1</th>\n",
       "      <th>def_2</th>\n",
       "      <th>def_3</th>\n",
       "      <th>valid</th>\n",
       "      <th>prop</th>\n",
       "    </tr>\n",
       "  </thead>\n",
       "  <tbody>\n",
       "    <tr>\n",
       "      <th>30</th>\n",
       "      <td>0</td>\n",
       "      <td>miniature pinscher</td>\n",
       "      <td>working dog</td>\n",
       "      <td>watchdog</td>\n",
       "      <td>small German version of a Doberman pinscher</td>\n",
       "      <td>any of several breeds of usually large powerfu...</td>\n",
       "      <td>a dog trained to guard property</td>\n",
       "      <td>0</td>\n",
       "      <td>1</td>\n",
       "    </tr>\n",
       "    <tr>\n",
       "      <th>31</th>\n",
       "      <td>0</td>\n",
       "      <td>miniature pinscher</td>\n",
       "      <td>seizure-alert dog</td>\n",
       "      <td>watchdog</td>\n",
       "      <td>small German version of a Doberman pinscher</td>\n",
       "      <td>a dog that can alert or assist people with sei...</td>\n",
       "      <td>a dog trained to guard property</td>\n",
       "      <td>-1</td>\n",
       "      <td>1</td>\n",
       "    </tr>\n",
       "    <tr>\n",
       "      <th>32</th>\n",
       "      <td>0</td>\n",
       "      <td>miniature pinscher</td>\n",
       "      <td>Sennenhunde</td>\n",
       "      <td>watchdog</td>\n",
       "      <td>small German version of a Doberman pinscher</td>\n",
       "      <td>any of four Swiss breeds</td>\n",
       "      <td>a dog trained to guard property</td>\n",
       "      <td>-1</td>\n",
       "      <td>1</td>\n",
       "    </tr>\n",
       "    <tr>\n",
       "      <th>33</th>\n",
       "      <td>0</td>\n",
       "      <td>miniature pinscher</td>\n",
       "      <td>Appenzeller</td>\n",
       "      <td>watchdog</td>\n",
       "      <td>small German version of a Doberman pinscher</td>\n",
       "      <td>a smaller of the four Swiss breeds</td>\n",
       "      <td>a dog trained to guard property</td>\n",
       "      <td>-2</td>\n",
       "      <td>1</td>\n",
       "    </tr>\n",
       "    <tr>\n",
       "      <th>34</th>\n",
       "      <td>0</td>\n",
       "      <td>miniature pinscher</td>\n",
       "      <td>Greater Swiss Mountain dog</td>\n",
       "      <td>watchdog</td>\n",
       "      <td>small German version of a Doberman pinscher</td>\n",
       "      <td>the largest of the four Swiss breeds</td>\n",
       "      <td>a dog trained to guard property</td>\n",
       "      <td>-2</td>\n",
       "      <td>1</td>\n",
       "    </tr>\n",
       "  </tbody>\n",
       "</table>\n",
       "</div>"
      ],
      "text/plain": [
       "    tree_id               ent_1                       ent_2     ent_3  \\\n",
       "30        0  miniature pinscher                 working dog  watchdog   \n",
       "31        0  miniature pinscher           seizure-alert dog  watchdog   \n",
       "32        0  miniature pinscher                 Sennenhunde  watchdog   \n",
       "33        0  miniature pinscher                 Appenzeller  watchdog   \n",
       "34        0  miniature pinscher  Greater Swiss Mountain dog  watchdog   \n",
       "\n",
       "                                          def_1  \\\n",
       "30  small German version of a Doberman pinscher   \n",
       "31  small German version of a Doberman pinscher   \n",
       "32  small German version of a Doberman pinscher   \n",
       "33  small German version of a Doberman pinscher   \n",
       "34  small German version of a Doberman pinscher   \n",
       "\n",
       "                                                def_2  \\\n",
       "30  any of several breeds of usually large powerfu...   \n",
       "31  a dog that can alert or assist people with sei...   \n",
       "32                           any of four Swiss breeds   \n",
       "33                 a smaller of the four Swiss breeds   \n",
       "34               the largest of the four Swiss breeds   \n",
       "\n",
       "                              def_3  valid  prop  \n",
       "30  a dog trained to guard property      0     1  \n",
       "31  a dog trained to guard property     -1     1  \n",
       "32  a dog trained to guard property     -1     1  \n",
       "33  a dog trained to guard property     -2     1  \n",
       "34  a dog trained to guard property     -2     1  "
      ]
     },
     "metadata": {},
     "output_type": "display_data"
    }
   ],
   "source": [
    "bigdf =load_dataset() # train"
   ]
  },
  {
   "cell_type": "code",
   "execution_count": 13,
   "id": "ambient-poison",
   "metadata": {
    "jupyter": {
     "source_hidden": true
    }
   },
   "outputs": [],
   "source": [
    "bigdf.reset_index().to_json(path_or_buf='/users/cost/jlovonme/data/hierarchy_props/train_hardneg_sample_25.json',orient=\"index\")"
   ]
  },
  {
   "cell_type": "markdown",
   "id": "typical-maldives",
   "metadata": {
    "jupyter": {
     "source_hidden": true
    }
   },
   "source": [
    "### Dev"
   ]
  },
  {
   "cell_type": "code",
   "execution_count": 17,
   "id": "arranged-workstation",
   "metadata": {
    "jupyter": {
     "source_hidden": true
    }
   },
   "outputs": [],
   "source": [
    "#bigdf_dev.reset_index().to_json(path_or_buf='/users/cost/jlovonme/data/hierarchy_props/dev_hardneg_sample_25.json',orient=\"index\")"
   ]
  },
  {
   "cell_type": "code",
   "execution_count": 3,
   "id": "obvious-cornell",
   "metadata": {
    "collapsed": true,
    "jupyter": {
     "outputs_hidden": true,
     "source_hidden": true
    },
    "scrolled": true
   },
   "outputs": [
    {
     "name": "stdout",
     "output_type": "stream",
     "text": [
      "# of tripets per property after removing soft-negatives\n"
     ]
    },
    {
     "data": {
      "text/plain": [
       "[[0, 0, 0, 0],\n",
       " [1443, 0, 0, 0],\n",
       " [5744, 0, 0, 0],\n",
       " [9347, 0, 0, 0],\n",
       " [8540, 0, 0, 0],\n",
       " [5744, 0, 0, 0],\n",
       " [9347, 0, 0, 0],\n",
       " [8540, 0, 0, 0],\n",
       " [37624, 0, 0, 0],\n",
       " [34066, 0, 0, 0],\n",
       " [0, 0, 0, 0]]"
      ]
     },
     "metadata": {},
     "output_type": "display_data"
    },
    {
     "name": "stdout",
     "output_type": "stream",
     "text": [
      "# of tripets per property after removing identical triplets\n"
     ]
    },
    {
     "data": {
      "text/plain": [
       "[[0, 0, 0, 0],\n",
       " [1439, 0, 0, 0],\n",
       " [5712, 0, 0, 0],\n",
       " [9327, 0, 0, 0],\n",
       " [8530, 0, 0, 0],\n",
       " [5742, 0, 0, 0],\n",
       " [9327, 0, 0, 0],\n",
       " [8530, 0, 0, 0],\n",
       " [37614, 0, 0, 0],\n",
       " [34062, 0, 0, 0],\n",
       " [0, 0, 0, 0]]"
      ]
     },
     "metadata": {},
     "output_type": "display_data"
    },
    {
     "name": "stdout",
     "output_type": "stream",
     "text": [
      "# valid of triplets per property\n",
      "Tree ids min - max - total 533 646 114\n"
     ]
    },
    {
     "data": {
      "text/plain": [
       "prop\n",
       "1     12.622807\n",
       "2     50.105263\n",
       "3     81.815789\n",
       "4     74.824561\n",
       "5     50.368421\n",
       "6     81.815789\n",
       "7     74.824561\n",
       "8    329.947368\n",
       "9    298.789474\n",
       "Name: valid, dtype: float64"
      ]
     },
     "metadata": {},
     "output_type": "display_data"
    },
    {
     "name": "stdout",
     "output_type": "stream",
     "text": [
      "Final total triplets per property\n"
     ]
    },
    {
     "data": {
      "text/plain": [
       "[[0, 0, 0, 0],\n",
       " [1439, 0, 0, 0],\n",
       " [2232, 0, 0, 0],\n",
       " [2611, 0, 0, 0],\n",
       " [2018, 0, 0, 0],\n",
       " [2257, 0, 0, 0],\n",
       " [2611, 0, 0, 0],\n",
       " [2018, 0, 0, 0],\n",
       " [2607, 0, 0, 0],\n",
       " [2042, 0, 0, 0],\n",
       " [0, 0, 0, 0]]"
      ]
     },
     "metadata": {},
     "output_type": "display_data"
    },
    {
     "name": "stdout",
     "output_type": "stream",
     "text": [
      "Total positive triplets 19835 Total neg triplets 0\n",
      "Total rows 19835\n"
     ]
    },
    {
     "data": {
      "text/html": [
       "<div>\n",
       "<style scoped>\n",
       "    .dataframe tbody tr th:only-of-type {\n",
       "        vertical-align: middle;\n",
       "    }\n",
       "\n",
       "    .dataframe tbody tr th {\n",
       "        vertical-align: top;\n",
       "    }\n",
       "\n",
       "    .dataframe thead th {\n",
       "        text-align: right;\n",
       "    }\n",
       "</style>\n",
       "<table border=\"1\" class=\"dataframe\">\n",
       "  <thead>\n",
       "    <tr style=\"text-align: right;\">\n",
       "      <th></th>\n",
       "      <th>tree_id</th>\n",
       "      <th>ent_1</th>\n",
       "      <th>ent_2</th>\n",
       "      <th>ent_3</th>\n",
       "      <th>def_1</th>\n",
       "      <th>def_2</th>\n",
       "      <th>def_3</th>\n",
       "      <th>valid</th>\n",
       "      <th>prop</th>\n",
       "    </tr>\n",
       "  </thead>\n",
       "  <tbody>\n",
       "    <tr>\n",
       "      <th>0</th>\n",
       "      <td>533</td>\n",
       "      <td>enuresis</td>\n",
       "      <td>incontinence</td>\n",
       "      <td>elimination</td>\n",
       "      <td>inability to control the flow of urine and inv...</td>\n",
       "      <td>involuntary urination or defecation</td>\n",
       "      <td>the bodily process of discharging waste matter</td>\n",
       "      <td>1</td>\n",
       "      <td>1</td>\n",
       "    </tr>\n",
       "    <tr>\n",
       "      <th>1</th>\n",
       "      <td>533</td>\n",
       "      <td>urochesia</td>\n",
       "      <td>defecation</td>\n",
       "      <td>elimination</td>\n",
       "      <td>passage of urine from the anus</td>\n",
       "      <td>the elimination of fecal waste through the anus</td>\n",
       "      <td>the bodily process of discharging waste matter</td>\n",
       "      <td>1</td>\n",
       "      <td>1</td>\n",
       "    </tr>\n",
       "    <tr>\n",
       "      <th>2</th>\n",
       "      <td>533</td>\n",
       "      <td>hematochezia</td>\n",
       "      <td>defecation</td>\n",
       "      <td>elimination</td>\n",
       "      <td>passage of stools containing blood (as from di...</td>\n",
       "      <td>the elimination of fecal waste through the anus</td>\n",
       "      <td>the bodily process of discharging waste matter</td>\n",
       "      <td>1</td>\n",
       "      <td>1</td>\n",
       "    </tr>\n",
       "    <tr>\n",
       "      <th>3</th>\n",
       "      <td>533</td>\n",
       "      <td>bowel movement</td>\n",
       "      <td>defecation</td>\n",
       "      <td>elimination</td>\n",
       "      <td>a euphemism for defecation</td>\n",
       "      <td>the elimination of fecal waste through the anus</td>\n",
       "      <td>the bodily process of discharging waste matter</td>\n",
       "      <td>1</td>\n",
       "      <td>1</td>\n",
       "    </tr>\n",
       "    <tr>\n",
       "      <th>4</th>\n",
       "      <td>533</td>\n",
       "      <td>shit</td>\n",
       "      <td>defecation</td>\n",
       "      <td>elimination</td>\n",
       "      <td>a coarse term for defecation</td>\n",
       "      <td>the elimination of fecal waste through the anus</td>\n",
       "      <td>the bodily process of discharging waste matter</td>\n",
       "      <td>1</td>\n",
       "      <td>1</td>\n",
       "    </tr>\n",
       "  </tbody>\n",
       "</table>\n",
       "</div>"
      ],
      "text/plain": [
       "   tree_id           ent_1         ent_2        ent_3  \\\n",
       "0      533        enuresis  incontinence  elimination   \n",
       "1      533       urochesia    defecation  elimination   \n",
       "2      533    hematochezia    defecation  elimination   \n",
       "3      533  bowel movement    defecation  elimination   \n",
       "4      533            shit    defecation  elimination   \n",
       "\n",
       "                                               def_1  \\\n",
       "0  inability to control the flow of urine and inv...   \n",
       "1                     passage of urine from the anus   \n",
       "2  passage of stools containing blood (as from di...   \n",
       "3                         a euphemism for defecation   \n",
       "4                       a coarse term for defecation   \n",
       "\n",
       "                                             def_2  \\\n",
       "0              involuntary urination or defecation   \n",
       "1  the elimination of fecal waste through the anus   \n",
       "2  the elimination of fecal waste through the anus   \n",
       "3  the elimination of fecal waste through the anus   \n",
       "4  the elimination of fecal waste through the anus   \n",
       "\n",
       "                                            def_3  valid  prop  \n",
       "0  the bodily process of discharging waste matter      1     1  \n",
       "1  the bodily process of discharging waste matter      1     1  \n",
       "2  the bodily process of discharging waste matter      1     1  \n",
       "3  the bodily process of discharging waste matter      1     1  \n",
       "4  the bodily process of discharging waste matter      1     1  "
      ]
     },
     "metadata": {},
     "output_type": "display_data"
    }
   ],
   "source": [
    "bigdf_dev2 = load_only_positives(propfile=\"hierarchy_props/bansal_with_defs_devprop_{prop}.json\",sample_prop=True)"
   ]
  },
  {
   "cell_type": "code",
   "execution_count": 4,
   "id": "flying-prophet",
   "metadata": {
    "jupyter": {
     "source_hidden": true
    }
   },
   "outputs": [],
   "source": [
    "bigdf_dev2.reset_index().to_json(path_or_buf='/users/cost/jlovonme/data/hierarchy_props/dev_onlypos_sample_25.json',orient=\"index\")"
   ]
  },
  {
   "cell_type": "code",
   "execution_count": 6,
   "id": "parental-purple",
   "metadata": {
    "collapsed": true,
    "jupyter": {
     "outputs_hidden": true,
     "source_hidden": true
    }
   },
   "outputs": [
    {
     "name": "stdout",
     "output_type": "stream",
     "text": [
      "# of tripets per property after removing soft-negatives\n"
     ]
    },
    {
     "data": {
      "text/plain": [
       "[[0, 0, 0, 0],\n",
       " [1435, 0, 0, 0],\n",
       " [7658, 0, 0, 0],\n",
       " [8273, 0, 0, 0],\n",
       " [6522, 0, 0, 0],\n",
       " [7658, 0, 0, 0],\n",
       " [8273, 0, 0, 0],\n",
       " [6522, 0, 0, 0],\n",
       " [33160, 0, 0, 0],\n",
       " [31746, 0, 0, 0],\n",
       " [0, 0, 0, 0]]"
      ]
     },
     "metadata": {},
     "output_type": "display_data"
    },
    {
     "name": "stdout",
     "output_type": "stream",
     "text": [
      "# of tripets per property after removing identical triplets\n"
     ]
    },
    {
     "data": {
      "text/plain": [
       "[[0, 0, 0, 0],\n",
       " [1435, 0, 0, 0],\n",
       " [7658, 0, 0, 0],\n",
       " [8273, 0, 0, 0],\n",
       " [6522, 0, 0, 0],\n",
       " [7658, 0, 0, 0],\n",
       " [8273, 0, 0, 0],\n",
       " [6522, 0, 0, 0],\n",
       " [33160, 0, 0, 0],\n",
       " [31746, 0, 0, 0],\n",
       " [0, 0, 0, 0]]"
      ]
     },
     "metadata": {},
     "output_type": "display_data"
    }
   ],
   "source": [
    "bigdf_test2 = load_only_positives(propfile=\"hierarchy_props/bansal_with_defs_testprop_{prop}.json\",sample_prop=False) # This split does NOT change after checking for duplicates"
   ]
  },
  {
   "cell_type": "code",
   "execution_count": 7,
   "id": "fleet-glossary",
   "metadata": {
    "jupyter": {
     "source_hidden": true
    }
   },
   "outputs": [],
   "source": [
    "bigdf_test2.reset_index().to_json(path_or_buf='/users/cost/jlovonme/data/hierarchy_props/test_onlypos.json',orient=\"index\")"
   ]
  },
  {
   "cell_type": "code",
   "execution_count": 14,
   "id": "cooperative-husband",
   "metadata": {
    "jupyter": {
     "source_hidden": true
    }
   },
   "outputs": [],
   "source": [
    "# here start training on triplet network (Check for correct loss + validation optimal)"
   ]
  },
  {
   "cell_type": "markdown",
   "id": "separate-patient",
   "metadata": {},
   "source": [
    "# Evaluators\n",
    "We consider 2 types of evaluation to determine a good model\n",
    "1. Triplet Evaluator -> Built-in on SentenceTransformer library\n",
    "2. Taxonomy Reconstruction Evaluator -> Need to be written"
   ]
  },
  {
   "cell_type": "code",
   "execution_count": 4,
   "id": "voluntary-bones",
   "metadata": {},
   "outputs": [],
   "source": [
    "def taxonomy_evaluator():\n",
    "    pass"
   ]
  },
  {
   "cell_type": "code",
   "execution_count": 10,
   "id": "naval-rotation",
   "metadata": {},
   "outputs": [],
   "source": [
    "testfile = '/users/cost/jlovonme/data/hierarchy_props/bansal_with_defs_dev.json'"
   ]
  },
  {
   "cell_type": "code",
   "execution_count": 11,
   "id": "civilian-founder",
   "metadata": {},
   "outputs": [
    {
     "data": {
      "text/html": [
       "<div>\n",
       "<style scoped>\n",
       "    .dataframe tbody tr th:only-of-type {\n",
       "        vertical-align: middle;\n",
       "    }\n",
       "\n",
       "    .dataframe tbody tr th {\n",
       "        vertical-align: top;\n",
       "    }\n",
       "\n",
       "    .dataframe thead th {\n",
       "        text-align: right;\n",
       "    }\n",
       "</style>\n",
       "<table border=\"1\" class=\"dataframe\">\n",
       "  <thead>\n",
       "    <tr style=\"text-align: right;\">\n",
       "      <th></th>\n",
       "      <th>father</th>\n",
       "      <th>child</th>\n",
       "      <th>treeid</th>\n",
       "      <th>split</th>\n",
       "      <th>father_definition</th>\n",
       "      <th>child_definition</th>\n",
       "    </tr>\n",
       "  </thead>\n",
       "  <tbody>\n",
       "    <tr>\n",
       "      <th>10364</th>\n",
       "      <td>elimination</td>\n",
       "      <td>incontinence</td>\n",
       "      <td>533</td>\n",
       "      <td>dev</td>\n",
       "      <td>the bodily process of discharging waste matter</td>\n",
       "      <td>involuntary urination or defecation</td>\n",
       "    </tr>\n",
       "    <tr>\n",
       "      <th>10365</th>\n",
       "      <td>elimination</td>\n",
       "      <td>defecation</td>\n",
       "      <td>533</td>\n",
       "      <td>dev</td>\n",
       "      <td>the bodily process of discharging waste matter</td>\n",
       "      <td>the elimination of fecal waste through the anus</td>\n",
       "    </tr>\n",
       "    <tr>\n",
       "      <th>10366</th>\n",
       "      <td>elimination</td>\n",
       "      <td>micturition</td>\n",
       "      <td>533</td>\n",
       "      <td>dev</td>\n",
       "      <td>the bodily process of discharging waste matter</td>\n",
       "      <td>the discharge of urine</td>\n",
       "    </tr>\n",
       "    <tr>\n",
       "      <th>10367</th>\n",
       "      <td>incontinence</td>\n",
       "      <td>enuresis</td>\n",
       "      <td>533</td>\n",
       "      <td>dev</td>\n",
       "      <td>involuntary urination or defecation</td>\n",
       "      <td>inability to control the flow of urine and inv...</td>\n",
       "    </tr>\n",
       "    <tr>\n",
       "      <th>10368</th>\n",
       "      <td>enuresis</td>\n",
       "      <td>bed-wetting</td>\n",
       "      <td>533</td>\n",
       "      <td>dev</td>\n",
       "      <td>inability to control the flow of urine and inv...</td>\n",
       "      <td>enuresis during sleep; especially common in ch...</td>\n",
       "    </tr>\n",
       "  </tbody>\n",
       "</table>\n",
       "</div>"
      ],
      "text/plain": [
       "             father         child  treeid split  \\\n",
       "10364   elimination  incontinence     533   dev   \n",
       "10365   elimination    defecation     533   dev   \n",
       "10366   elimination   micturition     533   dev   \n",
       "10367  incontinence      enuresis     533   dev   \n",
       "10368      enuresis   bed-wetting     533   dev   \n",
       "\n",
       "                                       father_definition  \\\n",
       "10364     the bodily process of discharging waste matter   \n",
       "10365     the bodily process of discharging waste matter   \n",
       "10366     the bodily process of discharging waste matter   \n",
       "10367                involuntary urination or defecation   \n",
       "10368  inability to control the flow of urine and inv...   \n",
       "\n",
       "                                        child_definition  \n",
       "10364                involuntary urination or defecation  \n",
       "10365    the elimination of fecal waste through the anus  \n",
       "10366                             the discharge of urine  \n",
       "10367  inability to control the flow of urine and inv...  \n",
       "10368  enuresis during sleep; especially common in ch...  "
      ]
     },
     "execution_count": 11,
     "metadata": {},
     "output_type": "execute_result"
    }
   ],
   "source": [
    "df = pd.read_json(load_json(testfile),orient='index')\n",
    "df.head()"
   ]
  },
  {
   "cell_type": "code",
   "execution_count": 7,
   "id": "quick-domestic",
   "metadata": {},
   "outputs": [],
   "source": [
    "tree_ids = set(df[\"treeid\"])\n",
    "model, tokenizer"
   ]
  },
  {
   "cell_type": "code",
   "execution_count": 9,
   "id": "structured-comfort",
   "metadata": {},
   "outputs": [
    {
     "name": "stdout",
     "output_type": "stream",
     "text": [
      "           father              child  treeid split  \\\n",
      "12646   explosion           airburst     647  test   \n",
      "12647   explosion           blowback     647  test   \n",
      "12648   explosion           big bang     647  test   \n",
      "12649   explosion          inflation     647  test   \n",
      "12650   explosion              blast     647  test   \n",
      "12651   explosion           backfire     647  test   \n",
      "12652   explosion      fragmentation     647  test   \n",
      "12653    blowback          backblast     647  test   \n",
      "12654       blast         bomb blast     647  test   \n",
      "12655  bomb blast  nuclear explosion     647  test   \n",
      "\n",
      "                                       father_definition  \\\n",
      "12646  a violent release of energy caused by a chemic...   \n",
      "12647  a violent release of energy caused by a chemic...   \n",
      "12648  a violent release of energy caused by a chemic...   \n",
      "12649  a violent release of energy caused by a chemic...   \n",
      "12650  a violent release of energy caused by a chemic...   \n",
      "12651  a violent release of energy caused by a chemic...   \n",
      "12652  a violent release of energy caused by a chemic...   \n",
      "12653  the backward escape of gases and unburned gunp...   \n",
      "12654                      an explosion (as of dynamite)   \n",
      "12655                            the explosion of a bomb   \n",
      "\n",
      "                                        child_definition  \n",
      "12646                     an explosion in the atmosphere  \n",
      "12647  the backward escape of gases and unburned gunp...  \n",
      "12648  (cosmology) the cosmic explosion that is hypot...  \n",
      "12649  (cosmology) a brief exponential expansion of t...  \n",
      "12650                      an explosion (as of dynamite)  \n",
      "12651  a loud noise made by the explosion of fuel in ...  \n",
      "12652  the scattering of bomb fragments after the bom...  \n",
      "12653                  backfire from a recoilless weapon  \n",
      "12654                            the explosion of a bomb  \n",
      "12655                    the explosion of an atomic bomb  \n"
     ]
    }
   ],
   "source": [
    "for tree_id in tree_ids:\n",
    "    subtree = df[df['treeid']==tree_id] # get subtree\n",
    "    #get words + definitions\n",
    "    map_elements = {}\n",
    "    for idx,row in subtree.iterrows():\n",
    "        phrase1 = row['father'] +\" is defined as \"+row['father_definition']\n",
    "        phrase2 = row['child'] +\" is defined as \"+row['child_definition']\n",
    "        map_elements[row['father']] = phrase1\n",
    "        map_elements[row['child']] = phrase2\n",
    "        \n",
    "    # obtain representations\n",
    "    # Evaluate model\n",
    "    model.eval() # set evaluation mode\n",
    "    model_representations = {} # to store representations\n",
    "\n",
    "    #return dataloader, model\n",
    "    for batch_num, batch in enumerate(tqdm(dataloader)):\n",
    "        #print(batch)\n",
    "        batch = batch_to_device(batch,device)# send to device\n",
    "        #print(batch.keys())\n",
    "        b_input_mask = batch['attention_mask'] # to identify not null tokens \n",
    "\n",
    "        with torch.no_grad():\n",
    "            out_features = model(**batch,\n",
    "                    #input_ids=b_input_ids,\n",
    "                    #token_type_ids=None,\n",
    "                    #attention_mask=b_input_mask,\n",
    "                    output_hidden_states=True)\n",
    "\n",
    "        n_layer = 0\n",
    "        my_layers = [out_features['hidden_states'][-1]]\n",
    "        \n",
    "        for layer in my_layers: # iterate each layer with shape (batch_size, sequence_length, hidden_size)\n",
    "            \n",
    "            for phrase, input_mask in zip(layer,b_input_mask): # iterate batch\n",
    "                #print(input_mask)\n",
    "                sequence_representation = []\n",
    "                for token, token_mask in zip(phrase, input_mask): # iterate sequence\n",
    "                    if token_mask: # if is not 0 or None\n",
    "                        sequence_representation.append(token) # output vector\n",
    "                sequence_representation = torch.stack(sequence_representation)\n",
    "\n",
    "\n",
    "                cls_rep = sequence_representation[0,:].detach().cpu() # Get first (CLS) token\n",
    "                avg_all_rep = sequence_representation[1:-1,:].mean(dim=0).detach().cpu() # Averaging all subtokens in each layer, not including CLS or SEP\n",
    "                #avg_word = to implement\n",
    "                model_representations.append([cls_rep, avg_all_rep])\n",
    "\n",
    "                #print(n_layer, sequence_representation.shape)\n",
    "\n",
    "    \n",
    "    # Compute full graph\n",
    "    \n",
    "    # Create golden tree and predicted tree\n",
    "    \n",
    "    # Compute metrics\n",
    "    print(subtree)\n",
    "    break"
   ]
  },
  {
   "cell_type": "code",
   "execution_count": 5,
   "id": "burning-driver",
   "metadata": {},
   "outputs": [],
   "source": [
    "trainfile = '/users/cost/jlovonme/data/hierarchy_props/train_hardneg_sample_25.json'\n",
    "devfile = '/users/cost/jlovonme/data/hierarchy_props/dev_onlypos_sample_25.json'\n",
    "testfile = '/users/cost/jlovonme/data/hierarchy_props/test_onlypos.json'"
   ]
  },
  {
   "cell_type": "code",
   "execution_count": 11,
   "id": "norman-aerospace",
   "metadata": {},
   "outputs": [],
   "source": [
    "df = pd.read_json(trainfile, orient='index')\n",
    "df = df[df['valid']==1] # We take only positive, do not know how to handle negatives yet"
   ]
  },
  {
   "cell_type": "code",
   "execution_count": 14,
   "id": "julian-drill",
   "metadata": {},
   "outputs": [
    {
     "data": {
      "text/plain": [
       "{1, 2, 3, 4, 5, 6, 7, 8, 9}"
      ]
     },
     "execution_count": 14,
     "metadata": {},
     "output_type": "execute_result"
    }
   ],
   "source": [
    "set(df['prop']) # Check all properties are present"
   ]
  },
  {
   "cell_type": "code",
   "execution_count": 12,
   "id": "obvious-wrapping",
   "metadata": {},
   "outputs": [],
   "source": [
    "#df = pd.read_json(trainfile, orient='index')\n",
    "train_dataset = Dataset.from_pandas(df)\n",
    "df_dev = pd.read_json(devfile, orient='index')\n",
    "dev_dataset = Dataset.from_pandas(df_dev)\n",
    "df_test = pd.read_json(testfile, orient='index')\n",
    "test_dataset = Dataset.from_pandas(df_test)"
   ]
  },
  {
   "cell_type": "code",
   "execution_count": 13,
   "id": "accessible-morris",
   "metadata": {},
   "outputs": [
    {
     "data": {
      "text/plain": [
       "Dataset({\n",
       "    features: ['index', 'tree_id', 'ent_1', 'ent_2', 'ent_3', 'def_1', 'def_2', 'def_3', 'valid', 'prop', '__index_level_0__'],\n",
       "    num_rows: 88473\n",
       "})"
      ]
     },
     "execution_count": 13,
     "metadata": {},
     "output_type": "execute_result"
    }
   ],
   "source": [
    "train_dataset, dev_dataset, test_dataset"
   ]
  },
  {
   "cell_type": "code",
   "execution_count": 18,
   "id": "julian-exclusion",
   "metadata": {},
   "outputs": [],
   "source": [
    "# Evaluate intersection vocabulary\n",
    "train_words = set(df['ent_1']).union(set(df['ent_2'])).union(set(df['ent_3']))\n",
    "dev_words = set(df_dev['ent_1']).union(set(df_dev['ent_2'])).union(set(df_dev['ent_3']))\n",
    "test_words = set(df_test['ent_1']).union(set(df_test['ent_2'])).union(set(df_test['ent_3']))"
   ]
  },
  {
   "cell_type": "markdown",
   "id": "cultural-tongue",
   "metadata": {},
   "source": [
    "### Words intersection in different splits"
   ]
  },
  {
   "cell_type": "code",
   "execution_count": 19,
   "id": "aggressive-daughter",
   "metadata": {},
   "outputs": [
    {
     "data": {
      "text/plain": [
       "(10349, 2363, 227)"
      ]
     },
     "execution_count": 19,
     "metadata": {},
     "output_type": "execute_result"
    }
   ],
   "source": [
    "len(train_words), len(dev_words),len(train_words.intersection(dev_words)) # Vocabulary (entities) intersection"
   ]
  },
  {
   "cell_type": "code",
   "execution_count": 20,
   "id": "remarkable-agreement",
   "metadata": {},
   "outputs": [
    {
     "data": {
      "text/plain": [
       "(2309, 201, 52)"
      ]
     },
     "execution_count": 20,
     "metadata": {},
     "output_type": "execute_result"
    }
   ],
   "source": [
    "len(test_words), len(train_words.intersection(test_words)) , len(dev_words.intersection(test_words))"
   ]
  }
 ],
 "metadata": {
  "kernelspec": {
   "display_name": "hierarchy",
   "language": "python",
   "name": "hierarchy"
  },
  "language_info": {
   "codemirror_mode": {
    "name": "ipython",
    "version": 3
   },
   "file_extension": ".py",
   "mimetype": "text/x-python",
   "name": "python",
   "nbconvert_exporter": "python",
   "pygments_lexer": "ipython3",
   "version": "3.8.12"
  }
 },
 "nbformat": 4,
 "nbformat_minor": 5
}
